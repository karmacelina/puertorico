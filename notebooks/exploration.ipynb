{
 "cells": [
  {
   "cell_type": "code",
   "execution_count": 1,
   "metadata": {},
   "outputs": [],
   "source": [
    "import pandas as pd \n",
    "import numpy as np\n",
    "import matplotlib.pyplot as plt \n",
    "%matplotlib inline \n",
    "\n",
    "import seaborn as sns\n",
    "\n",
    "pd.options.display.max_columns=999\n",
    "pd.options.display.max_rows=999"
   ]
  },
  {
   "cell_type": "markdown",
   "metadata": {},
   "source": [
    "# Escuelas"
   ]
  },
  {
   "cell_type": "code",
   "execution_count": 2,
   "metadata": {},
   "outputs": [],
   "source": [
    "escuelas = pd.read_csv('../data/Directorio_Comprensivo_de_Escuelas_P_blicas__Puerto_Rico_2017.csv')"
   ]
  },
  {
   "cell_type": "code",
   "execution_count": 3,
   "metadata": {},
   "outputs": [
    {
     "name": "stdout",
     "output_type": "stream",
     "text": [
      "<class 'pandas.core.frame.DataFrame'>\n",
      "RangeIndex: 1132 entries, 0 to 1131\n",
      "Data columns (total 57 columns):\n",
      "TABLE_ID                              1132 non-null int64\n",
      "CODIGO                                1132 non-null int64\n",
      "ESCUELA                               1132 non-null object\n",
      "REGION                                1132 non-null object\n",
      "DISTRITO                              1132 non-null object\n",
      "MUNICIPIO_ESCOLAR                     1118 non-null object\n",
      "DIRECCIO_FISICA                       1118 non-null object\n",
      "DIRECCION_MUNICIPIO                   1105 non-null object\n",
      "DIRECCIO_ESTADO                       1104 non-null object\n",
      "DIRECCION_ZIPCODE                     1104 non-null object\n",
      "GEOLOCALIZACION                       1118 non-null object\n",
      "TELEFONO                              1115 non-null object\n",
      "FAX                                   1093 non-null object\n",
      "DIRECTOR                              1117 non-null object\n",
      "ZONA                                  1118 non-null object\n",
      "ESTATUS_ACTUAL                        1132 non-null object\n",
      "NIVEL_ORIGINAL                        1118 non-null object\n",
      "GRADOS_ORIGINAL                       1118 non-null object\n",
      "GRADOS_POSTERIOR                      1118 non-null object\n",
      "MATRICULA_TOTAL                       1102 non-null float64\n",
      "GRADO_INFANT                          3 non-null float64\n",
      "GRADO_TODDLER                         9 non-null float64\n",
      "GRADO_PK                              128 non-null float64\n",
      "GRADO_PKE                             70 non-null float64\n",
      "GRADO_PKM                             33 non-null float64\n",
      "GRADO_K                               741 non-null float64\n",
      "GRADO_1                               743 non-null float64\n",
      "GRADO_2                               744 non-null float64\n",
      "GRADO_3                               744 non-null float64\n",
      "GRADO_4                               737 non-null float64\n",
      "GRADO_5                               733 non-null float64\n",
      "GRADO_6                               434 non-null float64\n",
      "GRADO_SGE                             403 non-null float64\n",
      "GRADO_7                               372 non-null float64\n",
      "GRADO_8                               364 non-null float64\n",
      "GRADO_9                               230 non-null float64\n",
      "GRADO_SGI                             177 non-null float64\n",
      "GRADO_10                              204 non-null float64\n",
      "GRADO_11                              199 non-null float64\n",
      "GRADO_12                              196 non-null float64\n",
      "GRADO_SGS                             103 non-null float64\n",
      "ESPAÑOL_[PROFICIENTE+AVANZADO]        1102 non-null object\n",
      "ESPAÑOL_PRE-BÁSICO                    1102 non-null object\n",
      "ESPAÑOL_BÁSICO                        1102 non-null object\n",
      "ESPAÑOL_PROFICIENTE                   1102 non-null object\n",
      "ESPAÑOL_AVANZADO                      1102 non-null object\n",
      "MATEMÁTICAS_[PROFICIENTE+AVANZADO]    1102 non-null object\n",
      "MATEMÁTICAS_PRE-BÁSICO                1102 non-null object\n",
      "MATEMÁTICAS_BÁSICO                    1102 non-null object\n",
      "MATEMÁTICAS_PROFICIENTE               1102 non-null object\n",
      "MATEMÁTICAS_AVANZADO                  1102 non-null object\n",
      "INGLÉS_[PROFICIENTE+AVANZADO]         1102 non-null object\n",
      "INGLÉS_PRE-BÁSICO                     1102 non-null object\n",
      "INGLÉS_BÁSICO                         1102 non-null object\n",
      "INGLÉS_PROFICIENTE                    1102 non-null object\n",
      "INGLÉS_AVANZADO                       1102 non-null object\n",
      "BAJO_NIVEL_POBREZA                    1113 non-null object\n",
      "dtypes: float64(22), int64(2), object(33)\n",
      "memory usage: 504.2+ KB\n"
     ]
    }
   ],
   "source": [
    "escuelas.info()"
   ]
  },
  {
   "cell_type": "markdown",
   "metadata": {},
   "source": [
    "Quedémonos con las escuelas que tienen información de # de estudiantes (non-null 'MATRICULA_TOTAL') "
   ]
  },
  {
   "cell_type": "code",
   "execution_count": 4,
   "metadata": {},
   "outputs": [],
   "source": [
    "escuelas.dropna(subset=['MATRICULA_TOTAL'], inplace=True)"
   ]
  },
  {
   "cell_type": "code",
   "execution_count": 5,
   "metadata": {},
   "outputs": [
    {
     "name": "stdout",
     "output_type": "stream",
     "text": [
      "<class 'pandas.core.frame.DataFrame'>\n",
      "Int64Index: 1102 entries, 0 to 1131\n",
      "Data columns (total 57 columns):\n",
      "TABLE_ID                              1102 non-null int64\n",
      "CODIGO                                1102 non-null int64\n",
      "ESCUELA                               1102 non-null object\n",
      "REGION                                1102 non-null object\n",
      "DISTRITO                              1102 non-null object\n",
      "MUNICIPIO_ESCOLAR                     1102 non-null object\n",
      "DIRECCIO_FISICA                       1102 non-null object\n",
      "DIRECCION_MUNICIPIO                   1089 non-null object\n",
      "DIRECCIO_ESTADO                       1088 non-null object\n",
      "DIRECCION_ZIPCODE                     1088 non-null object\n",
      "GEOLOCALIZACION                       1102 non-null object\n",
      "TELEFONO                              1099 non-null object\n",
      "FAX                                   1078 non-null object\n",
      "DIRECTOR                              1101 non-null object\n",
      "ZONA                                  1102 non-null object\n",
      "ESTATUS_ACTUAL                        1102 non-null object\n",
      "NIVEL_ORIGINAL                        1102 non-null object\n",
      "GRADOS_ORIGINAL                       1102 non-null object\n",
      "GRADOS_POSTERIOR                      1102 non-null object\n",
      "MATRICULA_TOTAL                       1102 non-null float64\n",
      "GRADO_INFANT                          3 non-null float64\n",
      "GRADO_TODDLER                         9 non-null float64\n",
      "GRADO_PK                              128 non-null float64\n",
      "GRADO_PKE                             70 non-null float64\n",
      "GRADO_PKM                             33 non-null float64\n",
      "GRADO_K                               741 non-null float64\n",
      "GRADO_1                               743 non-null float64\n",
      "GRADO_2                               744 non-null float64\n",
      "GRADO_3                               744 non-null float64\n",
      "GRADO_4                               737 non-null float64\n",
      "GRADO_5                               733 non-null float64\n",
      "GRADO_6                               434 non-null float64\n",
      "GRADO_SGE                             403 non-null float64\n",
      "GRADO_7                               372 non-null float64\n",
      "GRADO_8                               364 non-null float64\n",
      "GRADO_9                               230 non-null float64\n",
      "GRADO_SGI                             177 non-null float64\n",
      "GRADO_10                              204 non-null float64\n",
      "GRADO_11                              199 non-null float64\n",
      "GRADO_12                              196 non-null float64\n",
      "GRADO_SGS                             103 non-null float64\n",
      "ESPAÑOL_[PROFICIENTE+AVANZADO]        1101 non-null object\n",
      "ESPAÑOL_PRE-BÁSICO                    1101 non-null object\n",
      "ESPAÑOL_BÁSICO                        1101 non-null object\n",
      "ESPAÑOL_PROFICIENTE                   1101 non-null object\n",
      "ESPAÑOL_AVANZADO                      1101 non-null object\n",
      "MATEMÁTICAS_[PROFICIENTE+AVANZADO]    1101 non-null object\n",
      "MATEMÁTICAS_PRE-BÁSICO                1101 non-null object\n",
      "MATEMÁTICAS_BÁSICO                    1101 non-null object\n",
      "MATEMÁTICAS_PROFICIENTE               1101 non-null object\n",
      "MATEMÁTICAS_AVANZADO                  1101 non-null object\n",
      "INGLÉS_[PROFICIENTE+AVANZADO]         1101 non-null object\n",
      "INGLÉS_PRE-BÁSICO                     1101 non-null object\n",
      "INGLÉS_BÁSICO                         1101 non-null object\n",
      "INGLÉS_PROFICIENTE                    1101 non-null object\n",
      "INGLÉS_AVANZADO                       1101 non-null object\n",
      "BAJO_NIVEL_POBREZA                    1102 non-null object\n",
      "dtypes: float64(22), int64(2), object(33)\n",
      "memory usage: 499.3+ KB\n"
     ]
    }
   ],
   "source": [
    "escuelas.info()"
   ]
  },
  {
   "cell_type": "code",
   "execution_count": 6,
   "metadata": {},
   "outputs": [
    {
     "data": {
      "image/png": "[encoded data removed]",
      "text/plain": [
       "<Figure size 432x288 with 1 Axes>"
      ]
     },
     "metadata": {},
     "output_type": "display_data"
    }
   ],
   "source": [
    "escuelas['MATRICULA_TOTAL'].hist(bins=20)\n",
    "plt.axvline(x=escuelas['MATRICULA_TOTAL'].mean(), c='b', ls='dashed')\n",
    "plt.axvline(x=escuelas['MATRICULA_TOTAL'].median(), c='r', ls='dashed')\n",
    "plt.title('Histograma de Matricula Total de Escuelas');"
   ]
  },
  {
   "cell_type": "code",
   "execution_count": 7,
   "metadata": {},
   "outputs": [
    {
     "name": "stdout",
     "output_type": "stream",
     "text": [
      "Promedio de estudiantes matriculados por escuela: 329.0\n"
     ]
    }
   ],
   "source": [
    "print('Promedio de estudiantes matriculados por escuela: {}'.format(np.floor(escuelas['MATRICULA_TOTAL'].mean())))"
   ]
  },
  {
   "cell_type": "markdown",
   "metadata": {},
   "source": [
    "# Resultados de pruebas: "
   ]
  },
  {
   "cell_type": "code",
   "execution_count": null,
   "metadata": {},
   "outputs": [],
   "source": [
    "x = ['{}_[PROFICIENTE+AVANZADO]', '{}_PRE-BÁSICO', '{}_BÁSICO', '{}_PROFICIENTE', '{}_AVANZADO']\n",
    "materias = ['ESPAÑOL', 'MATEMÁTICAS', 'INGLÉS']\n",
    "d = {}\n",
    "for materia in materias:\n",
    "    d[materia] = [i.format(materia) for i in x]\n",
    "    \n",
    "materias = [i for j in list(d.values()) for i in j]\n",
    "materias.append('BAJO_NIVEL_POBREZA')\n",
    "\n",
    "for i in materias:\n",
    "    escuelas[i] = escuelas[i].str.replace('%','').astype(float)"
   ]
  },
  {
   "cell_type": "code",
   "execution_count": null,
   "metadata": {},
   "outputs": [],
   "source": [
    "escuelas.head(1)"
   ]
  },
  {
   "cell_type": "code",
   "execution_count": null,
   "metadata": {},
   "outputs": [],
   "source": [
    "plt.figure(figsize=(8,8))\n",
    "plt.scatter(escuelas['MATEMÁTICAS_AVANZADO'], escuelas['INGLÉS_AVANZADO'], \n",
    "            c=escuelas['ZONA'].map({'URBANA':1, 'RURAL':2}),\n",
    "            s=escuelas['MATRICULA_TOTAL']*0.25)\n",
    "plt.xlabel('Matemáticas Avanzado')\n",
    "plt.ylabel('Inglés Avanzado')"
   ]
  },
  {
   "cell_type": "code",
   "execution_count": null,
   "metadata": {},
   "outputs": [],
   "source": [
    "plt.scatter(escuelas['MATRICULA_TOTAL'], escuelas['MATEMÁTICAS_[PROFICIENTE+AVANZADO]'],\n",
    "           c=escuelas['ZONA'].map({'URBANA':1, 'RURAL':2}))"
   ]
  },
  {
   "cell_type": "code",
   "execution_count": null,
   "metadata": {},
   "outputs": [],
   "source": [
    "plt.scatter(escuelas['MATRICULA_TOTAL'], escuelas['ESPAÑOL_[PROFICIENTE+AVANZADO]'],\n",
    "           c=escuelas['ZONA'].map({'URBANA':1, 'RURAL':2}))"
   ]
  },
  {
   "cell_type": "code",
   "execution_count": null,
   "metadata": {},
   "outputs": [],
   "source": [
    "plt.scatter(escuelas['MATRICULA_TOTAL'], escuelas['INGLÉS_[PROFICIENTE+AVANZADO]'],\n",
    "           c=escuelas['ZONA'].map({'URBANA':1, 'RURAL':2}))"
   ]
  },
  {
   "cell_type": "code",
   "execution_count": null,
   "metadata": {},
   "outputs": [],
   "source": [
    "plt.figure(figsize=(8,8))\n",
    "plt.scatter(escuelas['MATEMÁTICAS_AVANZADO'], escuelas['ESPAÑOL_AVANZADO'], \n",
    "            c=escuelas['ZONA'].map({'URBANA':1, 'RURAL':2}),\n",
    "            s=escuelas['MATRICULA_TOTAL']*0.25)\n",
    "plt.xlabel('Matemáticas Avanzado')\n",
    "plt.ylabel('Español Avanzado')"
   ]
  },
  {
   "cell_type": "code",
   "execution_count": null,
   "metadata": {},
   "outputs": [],
   "source": [
    "plt.scatter(escuelas['MATRICULA_TOTAL'], escuelas['MATEMÁTICAS_AVANZADO'],\n",
    "            c = escuelas['ZONA'].map({'URBANA':1, 'RURAL':2}))"
   ]
  },
  {
   "cell_type": "code",
   "execution_count": null,
   "metadata": {},
   "outputs": [],
   "source": [
    "plt.scatter(escuelas['MATRICULA_TOTAL'], escuelas['MATEMÁTICAS_PRE-BÁSICO'])"
   ]
  },
  {
   "cell_type": "code",
   "execution_count": null,
   "metadata": {},
   "outputs": [],
   "source": [
    "plt.scatter(escuelas['MATRICULA_TOTAL'], escuelas['INGLÉS_AVANZADO'],\n",
    "            c = escuelas['ZONA'].map({'URBANA':1, 'RURAL':2}))"
   ]
  },
  {
   "cell_type": "code",
   "execution_count": null,
   "metadata": {},
   "outputs": [],
   "source": [
    "escuelas['ZONA'].value_counts(dropna=False)"
   ]
  },
  {
   "cell_type": "code",
   "execution_count": null,
   "metadata": {},
   "outputs": [],
   "source": [
    "sns.factorplot(x='REGION', y='INGLÉS_BÁSICO', hue='ZONA', data=escuelas, kind='bar' )\n",
    "plt.xticks(rotation=90)"
   ]
  },
  {
   "cell_type": "code",
   "execution_count": null,
   "metadata": {},
   "outputs": [],
   "source": [
    "sns.factorplot(x='REGION', y='MATRICULA_TOTAL', hue='ZONA', data=escuelas, kind='bar' )\n",
    "plt.xticks(rotation=90)"
   ]
  },
  {
   "cell_type": "code",
   "execution_count": null,
   "metadata": {},
   "outputs": [],
   "source": [
    "sns.factorplot(x='REGION', y='BAJO_NIVEL_POBREZA', hue='ZONA', data=escuelas, kind='bar' )\n",
    "plt.xticks(rotation=90)"
   ]
  },
  {
   "cell_type": "code",
   "execution_count": null,
   "metadata": {},
   "outputs": [],
   "source": [
    "sns.factorplot(x='REGION', y='INGLÉS_AVANZADO', hue='ZONA', data=escuelas, kind='bar' )\n",
    "plt.xticks(rotation=90)"
   ]
  },
  {
   "cell_type": "code",
   "execution_count": null,
   "metadata": {},
   "outputs": [],
   "source": [
    "escuelas.head(1)"
   ]
  },
  {
   "cell_type": "code",
   "execution_count": null,
   "metadata": {},
   "outputs": [],
   "source": [
    "escuelas.dtypes.value_counts()"
   ]
  },
  {
   "cell_type": "code",
   "execution_count": null,
   "metadata": {},
   "outputs": [],
   "source": [
    "escuelas['DIRECCION_MUNICIPIO'] = escuelas['DIRECCION_MUNICIPIO'].str.replace('PUNTA SANTIAGO, HUMACAO', 'HUMACAO')"
   ]
  },
  {
   "cell_type": "code",
   "execution_count": null,
   "metadata": {},
   "outputs": [],
   "source": [
    "# objects\n",
    "escuelas_object = escuelas.select_dtypes(include=[object])\n",
    "escuelas_object.head()"
   ]
  },
  {
   "cell_type": "code",
   "execution_count": null,
   "metadata": {},
   "outputs": [],
   "source": [
    "escuelas_object.describe()"
   ]
  },
  {
   "cell_type": "code",
   "execution_count": null,
   "metadata": {},
   "outputs": [],
   "source": [
    "escuelas_int = escuelas.select_dtypes(include=[int])"
   ]
  },
  {
   "cell_type": "code",
   "execution_count": null,
   "metadata": {},
   "outputs": [],
   "source": [
    "escuela_codigo_nombre = pd.DataFrame()\n",
    "escuela_codigo_nombre['codigo'] = escuelas_int['CODIGO']\n",
    "escuela_codigo_nombre['nombre'] = escuelas_object['ESCUELA']\n",
    "escuela_codigo_nombre.set_index('codigo', inplace=True)\n",
    "escuela_codigo_nombre.sort_index(inplace=True)\n",
    "\n",
    "escuela_codigo_nombre.head()"
   ]
  },
  {
   "cell_type": "code",
   "execution_count": null,
   "metadata": {},
   "outputs": [],
   "source": [
    "escuelas.head()"
   ]
  },
  {
   "cell_type": "code",
   "execution_count": null,
   "metadata": {},
   "outputs": [],
   "source": [
    "escuelas['BAJO_NIVEL_POBREZA'].hist()"
   ]
  },
  {
   "cell_type": "code",
   "execution_count": null,
   "metadata": {},
   "outputs": [],
   "source": [
    "# import sys\n",
    "\n",
    "# sys.path.append('/Users/caoba/projects/puertorico/src')\n",
    "\n",
    "# import utils\n",
    "# utils.load_data()"
   ]
  },
  {
   "cell_type": "code",
   "execution_count": null,
   "metadata": {},
   "outputs": [],
   "source": [
    "# # Pobreza: # de estudiates bajo el nivel de pobreza en cada escuela publica\n",
    "\n",
    "# pobreza = pd.read_csv('../data/N_mero_de_estudiantes_bajo_el_nivel_de_pobreza_en_cada_escuela_p_blica__a_o_escolar_2013-2014.csv')\n",
    "\n",
    "# pobreza.info()\n",
    "\n",
    "# pobreza['%'] = pobreza['Porcentaje de Estudiantes Bajo el Nivel de Pobreza (BNP)'].str.replace('%', '').astype(float)\n",
    "\n",
    "# pd.qcut(pobreza['%'], q=5).value_counts().sort_index()\n",
    "\n",
    "# #80% de las escuelas tienen más de 71.6% estudiantes bajo en nivel de probreza. \n",
    "\n",
    "# pobreza = pobreza.iloc[:1442]\n",
    "# pobreza.groupby('Región').mean()['%']\n",
    "\n",
    "# pobreza.groupby(['Región', 'Distrito']).mean()['%']\n",
    "\n",
    "# pobreza['Matrícula M1 entre 5 y 17 años de edad'].hist(alpha=0.5)\n",
    "# pobreza['M1 entre 5 y 17 años de edad Bajo Nivel Pobreza'].hist(alpha=0.5)\n",
    "# plt.title('Histograma de Matrícula M1 entre 5 y 17 años de edad\\n Todas las escuelas')\n",
    "# plt.legend(['total', 'bajo el nivel de probreza'])\n",
    "# plt.axvline(x = pobreza['Matrícula M1 entre 5 y 17 años de edad'].mean(), c='b', ls='dashed')\n",
    "# plt.axvline(x = pobreza['M1 entre 5 y 17 años de edad Bajo Nivel Pobreza'].mean(), c='g', ls='dashed')\n",
    "# plt.xlabel('número de estudiantes')\n",
    "# plt.ylabel('número de escuelas')\n",
    "\n",
    "# pobreza['Matrícula M1 entre 5 y 17 años de edad'].mean()\n",
    "\n",
    "# pobreza['M1 entre 5 y 17 años de edad Bajo Nivel Pobreza'].mean()\n",
    "\n",
    "# pobreza['ratio'] = pobreza['M1 entre 5 y 17 años de edad Bajo Nivel Pobreza']/pobreza['Matrícula M1 entre 5 y 17 años de edad']\n",
    "\n",
    "# pobreza['ratio'].hist(bins=20)\n",
    "# plt.axvline(x=pobreza['ratio'].mean(), c='b', ls='dashed')\n",
    "# plt.axvline(x=pobreza['ratio'].median(), c='b', ls='dotted')\n",
    "\n",
    "# pd.qcut(pobreza['ratio'], q=5).value_counts().sort_index()\n",
    "\n",
    "# pobreza['ratio'].mean()\n",
    "\n",
    "# # Matrícula promedio de una escuela (5 - 17 años) : 283 estudiantes\n",
    "# # \n",
    "# # Matrícula promedio de una escuela (5 - 17 años): Estudiantes Bajo Nivel Pobreza: 218. \n",
    "# # \n",
    "# # Proporción promedio de estudiantes BNP a estudiantes, 5 - 17 años: 78.5%. \n",
    "# # \n",
    "# # Alrededor de 80% de las escuelas tienen más de 71.6% de sus estudiantes de 5 - 17 años matriculados bajo el nivel de pobreza.  \n",
    "\n",
    "# pobreza['ratio_matricula'] = pobreza['Matrícula M1 entre 5 y 17 años de edad']/pobreza['Matrícula M1']\n",
    "\n",
    "# pobreza['ratio_matricula'].hist()\n",
    "\n",
    "# pobreza['ratio_matricula'].idxmin()\n",
    "\n",
    "# # escuelas[escuelas['GRADOS_ORIGINAL'] == '42889']\n",
    "# # escuelas[escuelas['CODIGO'] == 32300]\n",
    "\n",
    "# pobreza.iloc[651]\n",
    "\n",
    "# pobreza[['Código de la Escuela', 'Nombre Escuela']].head()\n",
    "\n",
    "\n",
    "# pobreza_codigo_nombre = pobreza[['Código de la Escuela', 'Nombre Escuela']]\n",
    "# pobreza_codigo_nombre.rename(columns={'Código de la Escuela':'codigo', 'Nombre Escuela':'nombre'}, inplace=True)\n",
    "# #pobreza_codigo_nombre.set_index('codigo', inplace=True)\n",
    "# pobreza_codigo_nombre.head()\n",
    "\n",
    "# pobreza_codigo_nombre.shape\n",
    "\n",
    "# pobreza_codigo_nombre.shape[0] - escuela_codigo_nombre.shape[0]\n",
    "\n",
    "# # Un dataset es del 2013 y otro del 2017. ¿Se cerraron/consolidaron 310 escuelas desde entonces?\n",
    "\n",
    "# df = pd.merge(pobreza_codigo_nombre, escuela_codigo_nombre, how='outer', on='codigo', suffixes=('_2013', '_2017'))\n",
    "\n",
    "# pobreza.head(1)\n",
    "\n",
    "# pobreza.groupby('Región').mean()['%']\n",
    "\n",
    "# pobreza.groupby('Distrito').mean()['%'].nlargest(10)\n",
    "\n",
    "# pobreza.groupby('Municipio Escolar').mean()['%'].nlargest(10)\n",
    "\n",
    "# pobreza.groupby('Municipio Escolar').mean()['%'].nsmallest(10)\n",
    "\n",
    "# num_escuelas_municipio_escolar = pobreza.groupby(['Región', 'Distrito', 'Municipio Escolar']).size().to_frame('#')\n",
    "\n",
    "# num_escuelas_municipio_escolar.shape\n",
    "\n",
    "# num_escuelas_municipio_escolar['#'].hist()\n",
    "# plt.axvline(x=num_escuelas_municipio_escolar['#'].mean(), c='b', ls='dashed')\n",
    "# plt.title('Histograma de numero de escuelas por municipio escolar');\n",
    "# plt.xlabel('numero de escuelas')\n",
    "# plt.ylabel('frecuencia')"
   ]
  },
  {
   "cell_type": "code",
   "execution_count": null,
   "metadata": {},
   "outputs": [],
   "source": [
    "escuela_codigo_nombre.shape"
   ]
  },
  {
   "cell_type": "code",
   "execution_count": null,
   "metadata": {},
   "outputs": [],
   "source": [
    "escuela_codigo_nombre.reset_index(inplace=True)\n",
    "escuela_codigo_nombre.head()"
   ]
  },
  {
   "cell_type": "markdown",
   "metadata": {},
   "source": [
    "### Clean zipcodes"
   ]
  },
  {
   "cell_type": "code",
   "execution_count": null,
   "metadata": {},
   "outputs": [],
   "source": [
    "escuelas['DIRECCION_ZIPCODE'].dtype"
   ]
  },
  {
   "cell_type": "code",
   "execution_count": null,
   "metadata": {},
   "outputs": [],
   "source": [
    "escuelas['DIRECCION_ZIPCODE'].head(10)"
   ]
  },
  {
   "cell_type": "code",
   "execution_count": null,
   "metadata": {},
   "outputs": [],
   "source": [
    "def extract_zip_z4(x):\n",
    "    try:\n",
    "        if '-' in x:\n",
    "            zip_ = x.split('-')[0]\n",
    "            z4 = x.split('-')[1]\n",
    "        else:\n",
    "            zip_ = x[:-4]\n",
    "            z4 = x[-4:]\n",
    "    \n",
    "        if len(zip_)!=5:\n",
    "            zip_ = zip_.zfill(5)\n",
    "        \n",
    "        return zip_, z4\n",
    "    except:\n",
    "        return None"
   ]
  },
  {
   "cell_type": "code",
   "execution_count": null,
   "metadata": {},
   "outputs": [],
   "source": [
    "escuelas['zipcode'] = escuelas['DIRECCION_ZIPCODE'].apply(lambda x: extract_zip_z4(x))"
   ]
  },
  {
   "cell_type": "code",
   "execution_count": null,
   "metadata": {},
   "outputs": [],
   "source": [
    "escuelas['zipcode'].head(10)"
   ]
  },
  {
   "cell_type": "code",
   "execution_count": null,
   "metadata": {},
   "outputs": [],
   "source": [
    "escuelas['zip'] = escuelas['zipcode'].apply(lambda x:x[0] if pd.notnull(x) else None)\n",
    "escuelas['z4'] = escuelas['zipcode'].apply(lambda x:x[1] if pd.notnull(x) else None)"
   ]
  },
  {
   "cell_type": "code",
   "execution_count": null,
   "metadata": {},
   "outputs": [],
   "source": [
    "escuelas.head(1)"
   ]
  },
  {
   "cell_type": "code",
   "execution_count": null,
   "metadata": {},
   "outputs": [],
   "source": [
    "escuelas['GEOLOCALIZACION'] = escuelas['GEOLOCALIZACION'].str.replace('(','')"
   ]
  },
  {
   "cell_type": "code",
   "execution_count": null,
   "metadata": {},
   "outputs": [],
   "source": [
    "escuelas['GEOLOCALIZACION'] = escuelas['GEOLOCALIZACION'].str.replace(')','')"
   ]
  },
  {
   "cell_type": "code",
   "execution_count": null,
   "metadata": {},
   "outputs": [],
   "source": [
    "escuelas['GEOLOCALIZACION'] = escuelas['GEOLOCALIZACION'].str.split(', ')"
   ]
  },
  {
   "cell_type": "code",
   "execution_count": null,
   "metadata": {},
   "outputs": [],
   "source": [
    "escuelas['GEOLOCALIZACION'].head()"
   ]
  },
  {
   "cell_type": "code",
   "execution_count": null,
   "metadata": {},
   "outputs": [],
   "source": [
    "escuelas['longitud'] = escuelas['GEOLOCALIZACION'].apply(lambda x: x[0] if np.all(pd.notnull(x)) else None).astype(float)\n",
    "escuelas['latitud'] = escuelas['GEOLOCALIZACION'].apply(lambda x: x[1] if np.all(pd.notnull(x)) else None).astype(float)"
   ]
  },
  {
   "cell_type": "code",
   "execution_count": null,
   "metadata": {},
   "outputs": [],
   "source": [
    "escuelas['ZONA'].value_counts(dropna=False)"
   ]
  },
  {
   "cell_type": "code",
   "execution_count": null,
   "metadata": {},
   "outputs": [],
   "source": [
    "plt.figure(figsize=(15,6))\n",
    "plt.scatter(escuelas['latitud'], escuelas['longitud'], marker='o', c=escuelas['ZONA'].map({'URBANA':1,\n",
    "                                                                                           'RURAL':2,\n",
    "                                                                                           np.nan: 3}))"
   ]
  },
  {
   "cell_type": "code",
   "execution_count": null,
   "metadata": {},
   "outputs": [],
   "source": [
    "escuelas.head(1)"
   ]
  },
  {
   "cell_type": "code",
   "execution_count": null,
   "metadata": {},
   "outputs": [],
   "source": [
    "z_bnp = (escuelas['BAJO_NIVEL_POBREZA'] - escuelas['BAJO_NIVEL_POBREZA'].mean())/escuelas['BAJO_NIVEL_POBREZA'].std()"
   ]
  },
  {
   "cell_type": "code",
   "execution_count": null,
   "metadata": {},
   "outputs": [],
   "source": [
    "escuelas['BAJO_NIVEL_POBREZA'].hist()"
   ]
  },
  {
   "cell_type": "code",
   "execution_count": null,
   "metadata": {},
   "outputs": [],
   "source": [
    "z_bnp.hist()"
   ]
  },
  {
   "cell_type": "code",
   "execution_count": null,
   "metadata": {},
   "outputs": [],
   "source": [
    "plt.rcParams['image.cmap'] = 'cool'"
   ]
  },
  {
   "cell_type": "code",
   "execution_count": null,
   "metadata": {},
   "outputs": [],
   "source": []
  },
  {
   "cell_type": "code",
   "execution_count": null,
   "metadata": {},
   "outputs": [],
   "source": [
    "(np.sign(z_bnp)*z_bnp*z_bnp).hist(bins=20)"
   ]
  },
  {
   "cell_type": "code",
   "execution_count": null,
   "metadata": {},
   "outputs": [],
   "source": [
    "plt.figure(figsize=(15,5))\n",
    "plt.scatter(escuelas['latitud'], escuelas['longitud'], \n",
    "            marker='o', \n",
    "            s=escuelas['MATRICULA_TOTAL']*0.25, \n",
    "            c=escuelas['ZONA'].map({'URBANA': 2,'RURAL':1,np.nan: 3}),\n",
    "            edgecolor='k')"
   ]
  },
  {
   "cell_type": "code",
   "execution_count": null,
   "metadata": {},
   "outputs": [],
   "source": [
    "plt.figure(1)\n",
    "escuelas['BAJO_NIVEL_POBREZA'].hist()\n",
    "plt.figure(2)\n",
    "z_bnp.hist()"
   ]
  },
  {
   "cell_type": "code",
   "execution_count": null,
   "metadata": {},
   "outputs": [],
   "source": [
    "escuelas.head(1)"
   ]
  },
  {
   "cell_type": "code",
   "execution_count": null,
   "metadata": {},
   "outputs": [],
   "source": [
    "escuelas.info()"
   ]
  },
  {
   "cell_type": "markdown",
   "metadata": {},
   "source": [
    "- 'MATRICULA TOTAL'\n",
    "- 'MATERIAS'\n",
    "- 'GRADOS' \n",
    "- 'POBREZA'"
   ]
  },
  {
   "cell_type": "code",
   "execution_count": null,
   "metadata": {},
   "outputs": [],
   "source": [
    "materias.pop(materias.index('BAJO_NIVEL_POBREZA')) #percentage"
   ]
  },
  {
   "cell_type": "code",
   "execution_count": null,
   "metadata": {},
   "outputs": [],
   "source": [
    "materias"
   ]
  },
  {
   "cell_type": "code",
   "execution_count": null,
   "metadata": {},
   "outputs": [],
   "source": [
    "df_materias = escuelas[materias]"
   ]
  },
  {
   "cell_type": "code",
   "execution_count": null,
   "metadata": {},
   "outputs": [],
   "source": [
    "df_materias.info()"
   ]
  },
  {
   "cell_type": "code",
   "execution_count": null,
   "metadata": {},
   "outputs": [],
   "source": [
    "escuelas.shape"
   ]
  },
  {
   "cell_type": "code",
   "execution_count": null,
   "metadata": {},
   "outputs": [],
   "source": [
    "escuelas = escuelas.drop(index = df_materias[df_materias['ESPAÑOL_BÁSICO'].isnull()].index)"
   ]
  },
  {
   "cell_type": "code",
   "execution_count": null,
   "metadata": {},
   "outputs": [],
   "source": [
    "df_materias = escuelas[materias]"
   ]
  },
  {
   "cell_type": "code",
   "execution_count": null,
   "metadata": {},
   "outputs": [],
   "source": [
    "df_materias.head()"
   ]
  },
  {
   "cell_type": "code",
   "execution_count": null,
   "metadata": {},
   "outputs": [],
   "source": [
    "from sklearn.preprocessing import StandardScaler\n",
    "from sklearn.decomposition import PCA"
   ]
  },
  {
   "cell_type": "code",
   "execution_count": null,
   "metadata": {},
   "outputs": [],
   "source": [
    "ss = StandardScaler()\n",
    "x_materias = ss.fit_transform(df_materias)\n",
    "pca = PCA(0.9, whiten=True)\n",
    "x_materias = pca.fit_transform(x_materias)\n",
    "\n",
    "plt.scatter(range(1, pca.n_components_ + 1), pca.explained_variance_ratio_.cumsum())"
   ]
  },
  {
   "cell_type": "code",
   "execution_count": null,
   "metadata": {},
   "outputs": [],
   "source": [
    "pca.n_components_"
   ]
  },
  {
   "cell_type": "code",
   "execution_count": null,
   "metadata": {},
   "outputs": [],
   "source": [
    "sns.heatmap(pca.components_.transpose(), yticklabels=df_materias.columns, cmap='Greys')"
   ]
  },
  {
   "cell_type": "code",
   "execution_count": null,
   "metadata": {},
   "outputs": [],
   "source": [
    "x_materias.shape"
   ]
  },
  {
   "cell_type": "code",
   "execution_count": null,
   "metadata": {},
   "outputs": [],
   "source": [
    "from sklearn.cluster import KMeans\n",
    "km = KMeans(5)\n",
    "\n",
    "km.fit(x_materias)"
   ]
  },
  {
   "cell_type": "code",
   "execution_count": null,
   "metadata": {},
   "outputs": [],
   "source": [
    "from sklearn.metrics import silhouette_score, silhouette_samples"
   ]
  },
  {
   "cell_type": "code",
   "execution_count": null,
   "metadata": {},
   "outputs": [],
   "source": [
    "silhouette_score(x_materias, labels = km.labels_)"
   ]
  },
  {
   "cell_type": "code",
   "execution_count": null,
   "metadata": {},
   "outputs": [],
   "source": [
    "plt.hist(silhouette_samples(x_materias, labels = km.labels_));"
   ]
  },
  {
   "cell_type": "code",
   "execution_count": null,
   "metadata": {},
   "outputs": [],
   "source": [
    "np.sort(silhouette_samples(x_materias, km.labels_))"
   ]
  },
  {
   "cell_type": "code",
   "execution_count": null,
   "metadata": {},
   "outputs": [],
   "source": [
    "n_components = range(2, 10)\n",
    "scores = []\n",
    "inertias = []\n",
    "for n in n_components:\n",
    "    km = KMeans(n)\n",
    "    km.fit(x_materias)\n",
    "    scores.append(silhouette_score(x_materias, labels = km.labels_))\n",
    "    inertias.append(km.inertia_)"
   ]
  },
  {
   "cell_type": "code",
   "execution_count": null,
   "metadata": {},
   "outputs": [],
   "source": [
    "plt.scatter(n_components, scores)\n",
    "#plt.scatter(n_components, inertias)"
   ]
  },
  {
   "cell_type": "markdown",
   "metadata": {},
   "source": [
    "# Grados"
   ]
  },
  {
   "cell_type": "code",
   "execution_count": null,
   "metadata": {},
   "outputs": [],
   "source": [
    "grados = [i for i in escuelas.columns if 'GRADO_' in i]"
   ]
  },
  {
   "cell_type": "code",
   "execution_count": null,
   "metadata": {},
   "outputs": [],
   "source": [
    "escuelas[grados].fillna(0, inplace=True)"
   ]
  },
  {
   "cell_type": "code",
   "execution_count": null,
   "metadata": {},
   "outputs": [],
   "source": [
    "escuelas[grados] = escuelas[grados].fillna(0)"
   ]
  },
  {
   "cell_type": "code",
   "execution_count": null,
   "metadata": {},
   "outputs": [],
   "source": [
    "escuelas[grados].head()"
   ]
  },
  {
   "cell_type": "code",
   "execution_count": null,
   "metadata": {},
   "outputs": [],
   "source": [
    "escuelas['matricula'] = escuelas[grados].sum(axis=1)"
   ]
  },
  {
   "cell_type": "code",
   "execution_count": null,
   "metadata": {},
   "outputs": [],
   "source": [
    "grados.extend(['matricula'])"
   ]
  },
  {
   "cell_type": "code",
   "execution_count": null,
   "metadata": {},
   "outputs": [],
   "source": [
    "escuelas[grados].shape"
   ]
  },
  {
   "cell_type": "code",
   "execution_count": null,
   "metadata": {},
   "outputs": [],
   "source": [
    "ss = StandardScaler()\n",
    "X = ss.fit_transform(escuelas[grados])\n",
    "pca = PCA(0.9, whiten=True)\n",
    "pca.fit(X)"
   ]
  },
  {
   "cell_type": "code",
   "execution_count": null,
   "metadata": {},
   "outputs": [],
   "source": [
    "plt.scatter(range(1, pca.n_components_+1), pca.explained_variance_ratio_.cumsum())"
   ]
  },
  {
   "cell_type": "code",
   "execution_count": null,
   "metadata": {},
   "outputs": [],
   "source": [
    "X = pd.DataFrame(X, columns=grados)"
   ]
  },
  {
   "cell_type": "code",
   "execution_count": null,
   "metadata": {},
   "outputs": [],
   "source": [
    "sns.heatmap(X.corr())"
   ]
  },
  {
   "cell_type": "code",
   "execution_count": null,
   "metadata": {},
   "outputs": [],
   "source": [
    "sns.heatmap(pca.components_.transpose(), yticklabels=grados, cmap='Greys')"
   ]
  },
  {
   "cell_type": "code",
   "execution_count": null,
   "metadata": {},
   "outputs": [],
   "source": [
    "X_reconstructed = pca.inverse_transform(pca.transform(X)) #this works for new X's. can do something like X_train, X_test and test. "
   ]
  },
  {
   "cell_type": "code",
   "execution_count": null,
   "metadata": {},
   "outputs": [],
   "source": [
    "X_reconstructed = ss.inverse_transform(X_reconstructed)"
   ]
  },
  {
   "cell_type": "code",
   "execution_count": null,
   "metadata": {},
   "outputs": [],
   "source": [
    "X_reconstructed = pd.DataFrame(X_reconstructed, columns=grados)"
   ]
  },
  {
   "cell_type": "code",
   "execution_count": null,
   "metadata": {},
   "outputs": [],
   "source": [
    "X_reconstructed['matricula'].hist(alpha=0.7)\n",
    "X['matricula'].hist(alpha=0.5)"
   ]
  },
  {
   "cell_type": "code",
   "execution_count": null,
   "metadata": {},
   "outputs": [],
   "source": [
    "grados"
   ]
  },
  {
   "cell_type": "code",
   "execution_count": null,
   "metadata": {},
   "outputs": [],
   "source": [
    "materias"
   ]
  },
  {
   "cell_type": "code",
   "execution_count": null,
   "metadata": {},
   "outputs": [],
   "source": [
    "escuelas_ = escuelas[grados+materias + ['BAJO_NIVEL_POBREZA']]"
   ]
  },
  {
   "cell_type": "code",
   "execution_count": null,
   "metadata": {},
   "outputs": [],
   "source": [
    "columnas = escuelas_.columns"
   ]
  },
  {
   "cell_type": "code",
   "execution_count": null,
   "metadata": {},
   "outputs": [],
   "source": [
    "escuelas_.head(1)"
   ]
  },
  {
   "cell_type": "code",
   "execution_count": null,
   "metadata": {},
   "outputs": [],
   "source": [
    "from sklearn.preprocessing import Imputer"
   ]
  },
  {
   "cell_type": "code",
   "execution_count": null,
   "metadata": {},
   "outputs": [],
   "source": [
    "imputer = Imputer(strategy='mean')"
   ]
  },
  {
   "cell_type": "code",
   "execution_count": null,
   "metadata": {},
   "outputs": [],
   "source": [
    "escuelas_.info()"
   ]
  },
  {
   "cell_type": "code",
   "execution_count": null,
   "metadata": {},
   "outputs": [],
   "source": [
    "escuelas_ = pd.DataFrame(imputer.fit_transform(escuelas_), columns=columnas)"
   ]
  },
  {
   "cell_type": "code",
   "execution_count": null,
   "metadata": {},
   "outputs": [],
   "source": [
    "escuelas_ = ss.fit_transform(escuelas_)\n",
    "pca = PCA(7, whiten=True)\n",
    "pca.fit(escuelas_)"
   ]
  },
  {
   "cell_type": "code",
   "execution_count": null,
   "metadata": {},
   "outputs": [],
   "source": [
    "plt.figure(figsize=(10,10))\n",
    "sns.heatmap(pca.components_.transpose(), yticklabels=columnas, cmap='Greys')"
   ]
  },
  {
   "cell_type": "code",
   "execution_count": null,
   "metadata": {},
   "outputs": [],
   "source": [
    "plt.scatter(range(1, pca.n_components_+1), pca.explained_variance_ratio_.cumsum())"
   ]
  },
  {
   "cell_type": "code",
   "execution_count": null,
   "metadata": {},
   "outputs": [],
   "source": [
    "escuelas_transformed = pca.fit_transform(escuelas_)\n",
    "escuelas_transformed = pd.DataFrame(escuelas_transformed, columns=['pca_{}'.format(i) for i in range(1, pca.n_components_+1)])"
   ]
  },
  {
   "cell_type": "code",
   "execution_count": null,
   "metadata": {},
   "outputs": [],
   "source": [
    "escuelas_transformed.shape"
   ]
  },
  {
   "cell_type": "code",
   "execution_count": null,
   "metadata": {},
   "outputs": [],
   "source": [
    "escuelas.shape"
   ]
  },
  {
   "cell_type": "code",
   "execution_count": null,
   "metadata": {},
   "outputs": [],
   "source": [
    "escuelas_transformed['zona'] = escuelas['ZONA'].map({'URBANA':0, 'RURAL':1})"
   ]
  },
  {
   "cell_type": "code",
   "execution_count": null,
   "metadata": {},
   "outputs": [],
   "source": [
    "escuelas_transformed['zona'].value_counts(dropna=False)"
   ]
  },
  {
   "cell_type": "code",
   "execution_count": null,
   "metadata": {},
   "outputs": [],
   "source": [
    "escuelas_transformed.info()"
   ]
  },
  {
   "cell_type": "code",
   "execution_count": null,
   "metadata": {},
   "outputs": [],
   "source": [
    "escuelas_transformed.dropna(inplace=True)"
   ]
  },
  {
   "cell_type": "code",
   "execution_count": null,
   "metadata": {},
   "outputs": [],
   "source": [
    "escuelas_transformed.head()"
   ]
  },
  {
   "cell_type": "code",
   "execution_count": null,
   "metadata": {},
   "outputs": [],
   "source": [
    "escuelas_transformed.shape"
   ]
  },
  {
   "cell_type": "code",
   "execution_count": null,
   "metadata": {},
   "outputs": [],
   "source": [
    "pca.n_components_"
   ]
  },
  {
   "cell_type": "code",
   "execution_count": null,
   "metadata": {},
   "outputs": [],
   "source": [
    "escuelas_transformed.head()"
   ]
  },
  {
   "cell_type": "code",
   "execution_count": null,
   "metadata": {},
   "outputs": [],
   "source": [
    "#escuelas_transformed.drop('zona', axis=1, inplace=True)"
   ]
  },
  {
   "cell_type": "code",
   "execution_count": null,
   "metadata": {},
   "outputs": [],
   "source": [
    "km = KMeans()"
   ]
  },
  {
   "cell_type": "code",
   "execution_count": null,
   "metadata": {},
   "outputs": [],
   "source": [
    "km.fit(escuelas_transformed.drop('zona', axis=1))"
   ]
  },
  {
   "cell_type": "code",
   "execution_count": null,
   "metadata": {},
   "outputs": [],
   "source": [
    "km.inertia_"
   ]
  },
  {
   "cell_type": "code",
   "execution_count": null,
   "metadata": {},
   "outputs": [],
   "source": [
    "silhouette_score(escuelas_transformed.drop('zona', axis=1),km.labels_)"
   ]
  },
  {
   "cell_type": "code",
   "execution_count": null,
   "metadata": {},
   "outputs": [],
   "source": [
    "sil_scores = []\n",
    "inertias = [] \n",
    "for n in range(2, 15):\n",
    "    km = KMeans(n)\n",
    "    km.fit(escuelas_transformed.drop('zona', axis=1))\n",
    "    inertias.append(km.inertia_)\n",
    "    sil_scores.append(silhouette_score(escuelas_transformed.drop('zona', axis=1), km.labels_))"
   ]
  },
  {
   "cell_type": "code",
   "execution_count": null,
   "metadata": {},
   "outputs": [],
   "source": [
    "plt.scatter(range(2, 15), sil_scores)"
   ]
  },
  {
   "cell_type": "code",
   "execution_count": null,
   "metadata": {},
   "outputs": [],
   "source": [
    "plt.scatter(range(2, 15), inertias)"
   ]
  },
  {
   "cell_type": "code",
   "execution_count": null,
   "metadata": {},
   "outputs": [],
   "source": [
    "escuelas_transformed.drop('zona', axis=1).head(1)"
   ]
  },
  {
   "cell_type": "code",
   "execution_count": null,
   "metadata": {},
   "outputs": [],
   "source": [
    "plt.scatter(escuelas_transformed['pca_1'], escuelas_transformed['pca_2'])"
   ]
  },
  {
   "cell_type": "code",
   "execution_count": null,
   "metadata": {},
   "outputs": [],
   "source": [
    "plt.scatter(escuelas_transformed['pca_1'], escuelas_transformed['pca_2'], c = KMeans(8).fit(escuelas_transformed).labels_)"
   ]
  },
  {
   "cell_type": "markdown",
   "metadata": {},
   "source": [
    "# Can we predict urban/rural zone using pca transformed features? "
   ]
  },
  {
   "cell_type": "code",
   "execution_count": null,
   "metadata": {},
   "outputs": [],
   "source": [
    "X = escuelas_transformed[['pca_{}'.format(i) for i in range(1,pca.n_components_+1)]]\n",
    "#y = escuelas_transformed['zona']"
   ]
  },
  {
   "cell_type": "code",
   "execution_count": null,
   "metadata": {},
   "outputs": [],
   "source": [
    "from sklearn.model_selection import train_test_split"
   ]
  },
  {
   "cell_type": "code",
   "execution_count": null,
   "metadata": {},
   "outputs": [],
   "source": [
    "X_train, X_test, y_train, y_test = train_test_split(X, y, train_size=0.5)"
   ]
  },
  {
   "cell_type": "code",
   "execution_count": null,
   "metadata": {},
   "outputs": [],
   "source": [
    "from sklearn.model_selection import cross_validate"
   ]
  },
  {
   "cell_type": "code",
   "execution_count": null,
   "metadata": {},
   "outputs": [],
   "source": [
    "from sklearn.ensemble import GradientBoostingClassifier\n",
    "from sklearn.ensemble import RandomForestClassifier\n",
    "from sklearn.linear_model import LogisticRegression"
   ]
  },
  {
   "cell_type": "code",
   "execution_count": null,
   "metadata": {},
   "outputs": [],
   "source": [
    "gbc = GradientBoostingClassifier()\n",
    "rfc = RandomForestClassifier()\n",
    "lr = LogisticRegression(penalty='l1', C=0.01)"
   ]
  },
  {
   "cell_type": "code",
   "execution_count": null,
   "metadata": {},
   "outputs": [],
   "source": [
    "from sklearn.model_selection import StratifiedKFold"
   ]
  },
  {
   "cell_type": "code",
   "execution_count": null,
   "metadata": {},
   "outputs": [],
   "source": [
    "skfold = StratifiedKFold(n_splits=5)"
   ]
  },
  {
   "cell_type": "code",
   "execution_count": null,
   "metadata": {},
   "outputs": [],
   "source": [
    "cross_validate(lr, X_train, y_train, cv=skfold)"
   ]
  },
  {
   "cell_type": "code",
   "execution_count": null,
   "metadata": {},
   "outputs": [],
   "source": [
    "escuelas.head(1)"
   ]
  },
  {
   "cell_type": "code",
   "execution_count": null,
   "metadata": {},
   "outputs": [],
   "source": [
    "pd.crosstab(escuelas['ZONA'], escuelas['NIVEL_ORIGINAL'] )"
   ]
  },
  {
   "cell_type": "code",
   "execution_count": null,
   "metadata": {},
   "outputs": [],
   "source": [
    "pd.crosstab(escuelas['ZONA'], escuelas['REGION'] )"
   ]
  },
  {
   "cell_type": "code",
   "execution_count": null,
   "metadata": {},
   "outputs": [],
   "source": []
  },
  {
   "cell_type": "code",
   "execution_count": null,
   "metadata": {},
   "outputs": [],
   "source": []
  },
  {
   "cell_type": "markdown",
   "metadata": {},
   "source": [
    "- - - \n",
    "# Admitidos a la Universidad de Puerto Rico"
   ]
  },
  {
   "cell_type": "code",
   "execution_count": null,
   "metadata": {},
   "outputs": [],
   "source": [
    "# Admitidos\n",
    "\n",
    "# admitidos = pd.read_csv('../data/Admitidos_a_la_Universidad_de_Puerto_Rico_desde_2009_hasta_2013.csv', encoding='utf8')\n",
    "\n",
    "# admitidos.head()\n",
    "\n",
    "# admitidos['año_admision'] = admitidos['CALENDARIO'].apply(lambda x: 2000 + int(x.split()[-1].split('-')[0]))\n",
    "# sns.factorplot(x='año_admision', y='GPA', hue='CAMPUS', data=admitidos)\n",
    "# plt.xticks(rotation=90)\n",
    "\n",
    "# #admitidos['INSTITUCION DE PROCEDENCIA'].apply(lambda x: x.split('-')[0])\n",
    "\n",
    "# #admitidos['INSTITUCION DE PROCEDENCIA'].apply(lambda x: x.split('-')[1])"
   ]
  },
  {
   "cell_type": "markdown",
   "metadata": {},
   "source": [
    "# Pobreza"
   ]
  },
  {
   "cell_type": "code",
   "execution_count": null,
   "metadata": {},
   "outputs": [],
   "source": [
    "# # Pobreza: # de estudiates bajo el nivel de pobreza en cada escuela publica\n",
    "\n",
    "# pobreza = pd.read_csv('../data/N_mero_de_estudiantes_bajo_el_nivel_de_pobreza_en_cada_escuela_p_blica__a_o_escolar_2013-2014.csv')\n",
    "\n",
    "# pobreza.info()\n",
    "\n",
    "# pobreza['%'] = pobreza['Porcentaje de Estudiantes Bajo el Nivel de Pobreza (BNP)'].str.replace('%', '').astype(float)\n",
    "\n",
    "# pd.qcut(pobreza['%'], q=5).value_counts().sort_index()\n",
    "\n",
    "# #80% de las escuelas tienen más de 71.6% estudiantes bajo en nivel de probreza. \n",
    "\n",
    "# pobreza = pobreza.iloc[:1442]\n",
    "# pobreza.groupby('Región').mean()['%']\n",
    "\n",
    "# pobreza.groupby(['Región', 'Distrito']).mean()['%']\n",
    "\n",
    "# pobreza['Matrícula M1 entre 5 y 17 años de edad'].hist(alpha=0.5)\n",
    "# pobreza['M1 entre 5 y 17 años de edad Bajo Nivel Pobreza'].hist(alpha=0.5)\n",
    "# plt.title('Histograma de Matrícula M1 entre 5 y 17 años de edad\\n Todas las escuelas')\n",
    "# plt.legend(['total', 'bajo el nivel de probreza'])\n",
    "# plt.axvline(x = pobreza['Matrícula M1 entre 5 y 17 años de edad'].mean(), c='b', ls='dashed')\n",
    "# plt.axvline(x = pobreza['M1 entre 5 y 17 años de edad Bajo Nivel Pobreza'].mean(), c='g', ls='dashed')\n",
    "# plt.xlabel('número de estudiantes')\n",
    "# plt.ylabel('número de escuelas')\n",
    "\n",
    "# pobreza['Matrícula M1 entre 5 y 17 años de edad'].mean()\n",
    "\n",
    "# pobreza['M1 entre 5 y 17 años de edad Bajo Nivel Pobreza'].mean()\n",
    "\n",
    "# pobreza['ratio'] = pobreza['M1 entre 5 y 17 años de edad Bajo Nivel Pobreza']/pobreza['Matrícula M1 entre 5 y 17 años de edad']\n",
    "\n",
    "# pobreza['ratio'].hist(bins=20)\n",
    "# plt.axvline(x=pobreza['ratio'].mean(), c='b', ls='dashed')\n",
    "# plt.axvline(x=pobreza['ratio'].median(), c='b', ls='dotted')\n",
    "\n",
    "# pd.qcut(pobreza['ratio'], q=5).value_counts().sort_index()\n",
    "\n",
    "# pobreza['ratio'].mean()\n",
    "\n",
    "# # Matrícula promedio de una escuela (5 - 17 años) : 283 estudiantes\n",
    "# # \n",
    "# # Matrícula promedio de una escuela (5 - 17 años): Estudiantes Bajo Nivel Pobreza: 218. \n",
    "# # \n",
    "# # Proporción promedio de estudiantes BNP a estudiantes, 5 - 17 años: 78.5%. \n",
    "# # \n",
    "# # Alrededor de 80% de las escuelas tienen más de 71.6% de sus estudiantes de 5 - 17 años matriculados bajo el nivel de pobreza.  \n",
    "\n",
    "# pobreza['ratio_matricula'] = pobreza['Matrícula M1 entre 5 y 17 años de edad']/pobreza['Matrícula M1']\n",
    "\n",
    "# pobreza['ratio_matricula'].hist()\n",
    "\n",
    "# pobreza['ratio_matricula'].idxmin()\n",
    "\n",
    "# # escuelas[escuelas['GRADOS_ORIGINAL'] == '42889']\n",
    "# # escuelas[escuelas['CODIGO'] == 32300]\n",
    "\n",
    "# pobreza.iloc[651]\n",
    "\n",
    "# pobreza[['Código de la Escuela', 'Nombre Escuela']].head()\n",
    "\n",
    "\n",
    "# pobreza_codigo_nombre = pobreza[['Código de la Escuela', 'Nombre Escuela']]\n",
    "# pobreza_codigo_nombre.rename(columns={'Código de la Escuela':'codigo', 'Nombre Escuela':'nombre'}, inplace=True)\n",
    "# #pobreza_codigo_nombre.set_index('codigo', inplace=True)\n",
    "# pobreza_codigo_nombre.head()\n",
    "\n",
    "# pobreza_codigo_nombre.shape\n",
    "\n",
    "# pobreza_codigo_nombre.shape[0] - escuela_codigo_nombre.shape[0]\n",
    "\n",
    "# # Un dataset es del 2013 y otro del 2017. ¿Se cerraron/consolidaron 310 escuelas desde entonces?\n",
    "\n",
    "# df = pd.merge(pobreza_codigo_nombre, escuela_codigo_nombre, how='outer', on='codigo', suffixes=('_2013', '_2017'))\n",
    "\n",
    "# pobreza.head(1)\n",
    "\n",
    "# pobreza.groupby('Región').mean()['%']\n",
    "\n",
    "# pobreza.groupby('Distrito').mean()['%'].nlargest(10)\n",
    "\n",
    "# pobreza.groupby('Municipio Escolar').mean()['%'].nlargest(10)\n",
    "\n",
    "# pobreza.groupby('Municipio Escolar').mean()['%'].nsmallest(10)\n",
    "\n",
    "# num_escuelas_municipio_escolar = pobreza.groupby(['Región', 'Distrito', 'Municipio Escolar']).size().to_frame('#')\n",
    "\n",
    "# num_escuelas_municipio_escolar.shape\n",
    "\n",
    "# num_escuelas_municipio_escolar['#'].hist()\n",
    "# plt.axvline(x=num_escuelas_municipio_escolar['#'].mean(), c='b', ls='dashed')\n",
    "# plt.title('Histograma de numero de escuelas por municipio escolar');\n",
    "# plt.xlabel('numero de escuelas')\n",
    "# plt.ylabel('frecuencia')"
   ]
  },
  {
   "cell_type": "markdown",
   "metadata": {},
   "source": [
    "# Melt"
   ]
  },
  {
   "cell_type": "code",
   "execution_count": null,
   "metadata": {},
   "outputs": [],
   "source": [
    "#Create example dataframe\n",
    "a = {'a':['a1','a2','a3'],'b':['b1','b2','b3']}\n",
    "df = pd.DataFrame.from_dict(a)\n",
    "df = df.T\n",
    "df = df.reset_index()\n",
    "df.columns = ['brand','1','2','3']\n",
    "df = pd.melt(df, id_vars =['brand'])"
   ]
  },
  {
   "cell_type": "code",
   "execution_count": null,
   "metadata": {},
   "outputs": [],
   "source": [
    "df"
   ]
  },
  {
   "cell_type": "markdown",
   "metadata": {},
   "source": [
    "# Stack"
   ]
  },
  {
   "cell_type": "code",
   "execution_count": null,
   "metadata": {},
   "outputs": [],
   "source": [
    "df.stack()"
   ]
  },
  {
   "cell_type": "code",
   "execution_count": null,
   "metadata": {},
   "outputs": [],
   "source": [
    "df.unstack().to_frame()"
   ]
  },
  {
   "cell_type": "code",
   "execution_count": null,
   "metadata": {},
   "outputs": [],
   "source": []
  }
 ],
 "metadata": {
  "kernelspec": {
   "display_name": "Python 3",
   "language": "python",
   "name": "python3"
  },
  "language_info": {
   "codemirror_mode": {
    "name": "ipython",
    "version": 3
   },
   "file_extension": ".py",
   "mimetype": "text/x-python",
   "name": "python",
   "nbconvert_exporter": "python",
   "pygments_lexer": "ipython3",
   "version": "3.6.4"
  }
 },
 "nbformat": 4,
 "nbformat_minor": 2
}
